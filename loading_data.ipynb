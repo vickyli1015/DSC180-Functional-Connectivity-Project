{
 "cells": [
  {
   "cell_type": "code",
   "execution_count": null,
   "metadata": {
    "vscode": {
     "languageId": "plaintext"
    }
   },
   "outputs": [],
   "source": [
    "from nilearn import plotting, image\n",
    "import nibabel as nib\n",
    "import os\n",
    "import numpy as np\n",
    "from pathlib import Path\n",
    "import tarfile\n",
    "import altair as alt\n",
    "import pandas as pd\n",
    "import matplotlib.pyplot as plt"
   ]
  },
  {
   "cell_type": "code",
   "execution_count": null,
   "metadata": {
    "vscode": {
     "languageId": "plaintext"
    }
   },
   "outputs": [],
   "source": [
    "#loading the data\n",
    "sub_list = os.listdir(\"HCP_PTN1200/node_timeseries/3T_HCP1200_MSMAll_d100_ts2\")\n",
    "make_path = lambda x: \"HCP_PTN1200/node_timeseries/3T_HCP1200_MSMAll_d100_ts2\" + \"/\" + x\n",
    "\n",
    "paths = [make_path(i) for i in sub_list]\n",
    "sub_data = [np.loadtxt(path) for path in paths]"
   ]
  }
 ],
 "metadata": {
  "language_info": {
   "name": "python"
  }
 },
 "nbformat": 4,
 "nbformat_minor": 2
}
